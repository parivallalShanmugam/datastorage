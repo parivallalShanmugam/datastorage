{
 "cells": [
  {
   "cell_type": "code",
   "execution_count": 47,
   "metadata": {},
   "outputs": [],
   "source": [
    "import pandas as pd\n",
    "import mysql.connector\n",
    "import re\n",
    "conn = mysql.connector.connect(username= \"root\",\n",
    "                               host = \"127.0.0.1\",\n",
    "                               password = \"admin@123\",\n",
    "                               database = \"datastorage\")\n",
    "\n",
    "cursor = conn.cursor()"
   ]
  },
  {
   "cell_type": "code",
   "execution_count": 8,
   "metadata": {},
   "outputs": [
    {
     "data": {
      "text/html": [
       "<div>\n",
       "<style scoped>\n",
       "    .dataframe tbody tr th:only-of-type {\n",
       "        vertical-align: middle;\n",
       "    }\n",
       "\n",
       "    .dataframe tbody tr th {\n",
       "        vertical-align: top;\n",
       "    }\n",
       "\n",
       "    .dataframe thead th {\n",
       "        text-align: right;\n",
       "    }\n",
       "</style>\n",
       "<table border=\"1\" class=\"dataframe\">\n",
       "  <thead>\n",
       "    <tr style=\"text-align: right;\">\n",
       "      <th></th>\n",
       "      <th>productkey</th>\n",
       "      <th>product</th>\n",
       "      <th>standard_cost</th>\n",
       "      <th>color</th>\n",
       "      <th>subcategory</th>\n",
       "      <th>category</th>\n",
       "    </tr>\n",
       "  </thead>\n",
       "  <tbody>\n",
       "    <tr>\n",
       "      <th>0</th>\n",
       "      <td>210</td>\n",
       "      <td>HL Road Frame - Black, 58</td>\n",
       "      <td>868.63</td>\n",
       "      <td>Black</td>\n",
       "      <td>Road Frames</td>\n",
       "      <td>Components</td>\n",
       "    </tr>\n",
       "    <tr>\n",
       "      <th>1</th>\n",
       "      <td>215</td>\n",
       "      <td>Sport-100 Helmet, Black</td>\n",
       "      <td>12.03</td>\n",
       "      <td>Black</td>\n",
       "      <td>Helmets</td>\n",
       "      <td>Accessories</td>\n",
       "    </tr>\n",
       "    <tr>\n",
       "      <th>2</th>\n",
       "      <td>216</td>\n",
       "      <td>Sport-100 Helmet, Black</td>\n",
       "      <td>13.88</td>\n",
       "      <td>Black</td>\n",
       "      <td>Helmets</td>\n",
       "      <td>Accessories</td>\n",
       "    </tr>\n",
       "    <tr>\n",
       "      <th>3</th>\n",
       "      <td>217</td>\n",
       "      <td>Sport-100 Helmet, Black</td>\n",
       "      <td>13.09</td>\n",
       "      <td>Black</td>\n",
       "      <td>Helmets</td>\n",
       "      <td>Accessories</td>\n",
       "    </tr>\n",
       "    <tr>\n",
       "      <th>4</th>\n",
       "      <td>253</td>\n",
       "      <td>LL Road Frame - Black, 58</td>\n",
       "      <td>176.20</td>\n",
       "      <td>Black</td>\n",
       "      <td>Road Frames</td>\n",
       "      <td>Components</td>\n",
       "    </tr>\n",
       "  </tbody>\n",
       "</table>\n",
       "</div>"
      ],
      "text/plain": [
       "   productkey                    product  standard_cost  color  subcategory  \\\n",
       "0         210  HL Road Frame - Black, 58         868.63  Black  Road Frames   \n",
       "1         215    Sport-100 Helmet, Black          12.03  Black      Helmets   \n",
       "2         216    Sport-100 Helmet, Black          13.88  Black      Helmets   \n",
       "3         217    Sport-100 Helmet, Black          13.09  Black      Helmets   \n",
       "4         253  LL Road Frame - Black, 58         176.20  Black  Road Frames   \n",
       "\n",
       "      category  \n",
       "0   Components  \n",
       "1  Accessories  \n",
       "2  Accessories  \n",
       "3  Accessories  \n",
       "4   Components  "
      ]
     },
     "execution_count": 8,
     "metadata": {},
     "output_type": "execute_result"
    }
   ],
   "source": [
    "df = pd.read_csv('product_cleaned.csv')\n",
    "df.head()"
   ]
  },
  {
   "cell_type": "code",
   "execution_count": 16,
   "metadata": {},
   "outputs": [
    {
     "name": "stdout",
     "output_type": "stream",
     "text": [
      "<class 'pandas.core.frame.DataFrame'>\n",
      "RangeIndex: 397 entries, 0 to 396\n",
      "Data columns (total 6 columns):\n",
      " #   Column         Non-Null Count  Dtype  \n",
      "---  ------         --------------  -----  \n",
      " 0   productkey     397 non-null    int64  \n",
      " 1   product        397 non-null    object \n",
      " 2   standard_cost  397 non-null    float64\n",
      " 3   color          341 non-null    object \n",
      " 4   subcategory    397 non-null    object \n",
      " 5   category       397 non-null    object \n",
      "dtypes: float64(1), int64(1), object(4)\n",
      "memory usage: 18.7+ KB\n"
     ]
    }
   ],
   "source": [
    "df.info()"
   ]
  },
  {
   "cell_type": "code",
   "execution_count": 18,
   "metadata": {},
   "outputs": [],
   "source": [
    "df['color'] = df['color'].fillna(\"unknown\")"
   ]
  },
  {
   "cell_type": "code",
   "execution_count": 20,
   "metadata": {},
   "outputs": [
    {
     "data": {
      "text/html": [
       "<div>\n",
       "<style scoped>\n",
       "    .dataframe tbody tr th:only-of-type {\n",
       "        vertical-align: middle;\n",
       "    }\n",
       "\n",
       "    .dataframe tbody tr th {\n",
       "        vertical-align: top;\n",
       "    }\n",
       "\n",
       "    .dataframe thead th {\n",
       "        text-align: right;\n",
       "    }\n",
       "</style>\n",
       "<table border=\"1\" class=\"dataframe\">\n",
       "  <thead>\n",
       "    <tr style=\"text-align: right;\">\n",
       "      <th></th>\n",
       "      <th>productkey</th>\n",
       "      <th>product</th>\n",
       "      <th>standard_cost</th>\n",
       "      <th>color</th>\n",
       "      <th>subcategory</th>\n",
       "      <th>category</th>\n",
       "    </tr>\n",
       "  </thead>\n",
       "  <tbody>\n",
       "    <tr>\n",
       "      <th>0</th>\n",
       "      <td>210</td>\n",
       "      <td>HL Road Frame - Black, 58</td>\n",
       "      <td>868.63</td>\n",
       "      <td>Black</td>\n",
       "      <td>Road Frames</td>\n",
       "      <td>Components</td>\n",
       "    </tr>\n",
       "  </tbody>\n",
       "</table>\n",
       "</div>"
      ],
      "text/plain": [
       "   productkey                    product  standard_cost  color  subcategory  \\\n",
       "0         210  HL Road Frame - Black, 58         868.63  Black  Road Frames   \n",
       "\n",
       "     category  \n",
       "0  Components  "
      ]
     },
     "execution_count": 20,
     "metadata": {},
     "output_type": "execute_result"
    }
   ],
   "source": [
    "df[df['productkey'] == 210]"
   ]
  },
  {
   "cell_type": "code",
   "execution_count": null,
   "metadata": {},
   "outputs": [
    {
     "data": {
      "text/plain": [
       "397"
      ]
     },
     "execution_count": 22,
     "metadata": {},
     "output_type": "execute_result"
    }
   ],
   "source": [
    "df['productkey'].nunique()"
   ]
  },
  {
   "cell_type": "code",
   "execution_count": 23,
   "metadata": {},
   "outputs": [
    {
     "data": {
      "text/plain": [
       "(397, 6)"
      ]
     },
     "execution_count": 23,
     "metadata": {},
     "output_type": "execute_result"
    }
   ],
   "source": [
    "df.shape"
   ]
  },
  {
   "cell_type": "code",
   "execution_count": 9,
   "metadata": {},
   "outputs": [
    {
     "data": {
      "text/plain": [
       "Index(['productkey', 'product', 'standard_cost', 'color', 'subcategory',\n",
       "       'category'],\n",
       "      dtype='object')"
      ]
     },
     "execution_count": 9,
     "metadata": {},
     "output_type": "execute_result"
    }
   ],
   "source": [
    "df.columns"
   ]
  },
  {
   "cell_type": "code",
   "execution_count": 13,
   "metadata": {},
   "outputs": [],
   "source": [
    "create_product_table = \"\"\"CREATE TABLE products (\n",
    "    productkey INT PRIMARY KEY,\n",
    "    product VARCHAR(255),\n",
    "    standard_cost DECIMAL(10,2),\n",
    "    color VARCHAR(50),\n",
    "    subcategory VARCHAR(100),\n",
    "    category VARCHAR(100)\n",
    ");\"\"\""
   ]
  },
  {
   "cell_type": "code",
   "execution_count": 14,
   "metadata": {},
   "outputs": [],
   "source": [
    "cursor.execute(create_product_table)\n",
    "conn.commit()"
   ]
  },
  {
   "cell_type": "code",
   "execution_count": null,
   "metadata": {},
   "outputs": [
    {
     "name": "stdout",
     "output_type": "stream",
     "text": [
      "CSV data imported successfully!\n"
     ]
    }
   ],
   "source": [
    "# Insert data row by row\n",
    "for _, row in df.iterrows():\n",
    "    cursor.execute(\n",
    "        \"\"\"\n",
    "        INSERT INTO products (productkey, product, standard_cost, color, subcategory, category)\n",
    "        VALUES (%s, %s, %s, %s, %s, %s)\n",
    "        \"\"\",\n",
    "        (row[\"productkey\"], \n",
    "         row[\"product\"], \n",
    "         row[\"standard_cost\"], \n",
    "         row[\"color\"], \n",
    "         row[\"subcategory\"], \n",
    "         row[\"category\"])\n",
    "    )\n",
    "\n",
    "# Commit and close connection\n",
    "conn.commit()\n",
    "print(\"CSV data imported successfully!\")"
   ]
  },
  {
   "cell_type": "code",
   "execution_count": 51,
   "metadata": {},
   "outputs": [],
   "source": [
    "df_region = pd.read_csv('region_cleaned.csv')"
   ]
  },
  {
   "cell_type": "code",
   "execution_count": 52,
   "metadata": {},
   "outputs": [
    {
     "data": {
      "text/html": [
       "<div>\n",
       "<style scoped>\n",
       "    .dataframe tbody tr th:only-of-type {\n",
       "        vertical-align: middle;\n",
       "    }\n",
       "\n",
       "    .dataframe tbody tr th {\n",
       "        vertical-align: top;\n",
       "    }\n",
       "\n",
       "    .dataframe thead th {\n",
       "        text-align: right;\n",
       "    }\n",
       "</style>\n",
       "<table border=\"1\" class=\"dataframe\">\n",
       "  <thead>\n",
       "    <tr style=\"text-align: right;\">\n",
       "      <th></th>\n",
       "      <th>salesterritorykey</th>\n",
       "      <th>region</th>\n",
       "      <th>country</th>\n",
       "      <th>country_group</th>\n",
       "    </tr>\n",
       "  </thead>\n",
       "  <tbody>\n",
       "    <tr>\n",
       "      <th>0</th>\n",
       "      <td>1</td>\n",
       "      <td>Northwest</td>\n",
       "      <td>United States</td>\n",
       "      <td>North America</td>\n",
       "    </tr>\n",
       "    <tr>\n",
       "      <th>1</th>\n",
       "      <td>2</td>\n",
       "      <td>Northeast</td>\n",
       "      <td>United States</td>\n",
       "      <td>North America</td>\n",
       "    </tr>\n",
       "    <tr>\n",
       "      <th>2</th>\n",
       "      <td>3</td>\n",
       "      <td>Central</td>\n",
       "      <td>United States</td>\n",
       "      <td>North America</td>\n",
       "    </tr>\n",
       "    <tr>\n",
       "      <th>3</th>\n",
       "      <td>4</td>\n",
       "      <td>Southwest</td>\n",
       "      <td>United States</td>\n",
       "      <td>North America</td>\n",
       "    </tr>\n",
       "    <tr>\n",
       "      <th>4</th>\n",
       "      <td>5</td>\n",
       "      <td>Southeast</td>\n",
       "      <td>United States</td>\n",
       "      <td>North America</td>\n",
       "    </tr>\n",
       "  </tbody>\n",
       "</table>\n",
       "</div>"
      ],
      "text/plain": [
       "   salesterritorykey     region        country  country_group\n",
       "0                  1  Northwest  United States  North America\n",
       "1                  2  Northeast  United States  North America\n",
       "2                  3    Central  United States  North America\n",
       "3                  4  Southwest  United States  North America\n",
       "4                  5  Southeast  United States  North America"
      ]
     },
     "execution_count": 52,
     "metadata": {},
     "output_type": "execute_result"
    }
   ],
   "source": [
    "df_region.head()"
   ]
  },
  {
   "cell_type": "code",
   "execution_count": 54,
   "metadata": {},
   "outputs": [
    {
     "data": {
      "text/plain": [
       "country_group\n",
       "North America    6\n",
       "Europe           3\n",
       "Pacific          1\n",
       "Name: count, dtype: int64"
      ]
     },
     "execution_count": 54,
     "metadata": {},
     "output_type": "execute_result"
    }
   ],
   "source": [
    "df_region['country_group'].value_counts()"
   ]
  },
  {
   "cell_type": "code",
   "execution_count": 44,
   "metadata": {},
   "outputs": [],
   "source": [
    "df_region.rename(columns={\"group\": \"country_group\"}, inplace=True)"
   ]
  },
  {
   "cell_type": "code",
   "execution_count": 45,
   "metadata": {},
   "outputs": [],
   "source": [
    "df_region.to_csv('region_cleaned.csv', index=False)"
   ]
  },
  {
   "cell_type": "code",
   "execution_count": null,
   "metadata": {},
   "outputs": [],
   "source": [
    "Region_table_query = \"\"\"CREATE TABLE region (\n",
    "    salesterritorykey INT PRIMARY KEY,\n",
    "    region VARCHAR(50) NOT NULL,\n",
    "    country VARCHAR(50) NOT NULL,\n",
    "    group VARCHAR(50) NOT NULL\n",
    ");\n",
    "\"\"\"\n",
    "cursor.execute(Region_table_query)\n",
    "conn.commit()"
   ]
  },
  {
   "cell_type": "code",
   "execution_count": 43,
   "metadata": {},
   "outputs": [],
   "source": [
    "conn.close()"
   ]
  },
  {
   "cell_type": "code",
   "execution_count": 48,
   "metadata": {},
   "outputs": [
    {
     "name": "stdout",
     "output_type": "stream",
     "text": [
      "CSV data imported successfully!\n"
     ]
    }
   ],
   "source": [
    "for _, row in df_region.iterrows():\n",
    "    cursor.execute(\n",
    "        \"\"\"\n",
    "        INSERT INTO region (salesterritorykey, region, country, country_group)\n",
    "        VALUES (%s, %s, %s, %s)\n",
    "        \"\"\",\n",
    "        (row[\"salesterritorykey\"], \n",
    "         row[\"region\"], \n",
    "         row[\"country\"], \n",
    "         row[\"country_group\"])\n",
    "    )\n",
    "\n",
    "# Commit and close connection\n",
    "conn.commit()\n",
    "print(\"CSV data imported successfully!\")"
   ]
  },
  {
   "cell_type": "code",
   "execution_count": 49,
   "metadata": {},
   "outputs": [
    {
     "data": {
      "text/html": [
       "<div>\n",
       "<style scoped>\n",
       "    .dataframe tbody tr th:only-of-type {\n",
       "        vertical-align: middle;\n",
       "    }\n",
       "\n",
       "    .dataframe tbody tr th {\n",
       "        vertical-align: top;\n",
       "    }\n",
       "\n",
       "    .dataframe thead th {\n",
       "        text-align: right;\n",
       "    }\n",
       "</style>\n",
       "<table border=\"1\" class=\"dataframe\">\n",
       "  <thead>\n",
       "    <tr style=\"text-align: right;\">\n",
       "      <th></th>\n",
       "      <th>resellerkey</th>\n",
       "      <th>business_type</th>\n",
       "      <th>reseller</th>\n",
       "      <th>city</th>\n",
       "      <th>state_province</th>\n",
       "      <th>country_region</th>\n",
       "    </tr>\n",
       "  </thead>\n",
       "  <tbody>\n",
       "    <tr>\n",
       "      <th>0</th>\n",
       "      <td>1</td>\n",
       "      <td>Value Added Reseller</td>\n",
       "      <td>A Bike Store</td>\n",
       "      <td>Seattle</td>\n",
       "      <td>Washington</td>\n",
       "      <td>United States</td>\n",
       "    </tr>\n",
       "    <tr>\n",
       "      <th>1</th>\n",
       "      <td>2</td>\n",
       "      <td>Specialty Bike Shop</td>\n",
       "      <td>Progressive Sports</td>\n",
       "      <td>Renton</td>\n",
       "      <td>Washington</td>\n",
       "      <td>United States</td>\n",
       "    </tr>\n",
       "    <tr>\n",
       "      <th>2</th>\n",
       "      <td>3</td>\n",
       "      <td>Warehouse</td>\n",
       "      <td>Advanced Bike Components</td>\n",
       "      <td>Irving</td>\n",
       "      <td>Texas</td>\n",
       "      <td>United States</td>\n",
       "    </tr>\n",
       "    <tr>\n",
       "      <th>3</th>\n",
       "      <td>4</td>\n",
       "      <td>Value Added Reseller</td>\n",
       "      <td>Modular Cycle Systems</td>\n",
       "      <td>Austin</td>\n",
       "      <td>Texas</td>\n",
       "      <td>United States</td>\n",
       "    </tr>\n",
       "    <tr>\n",
       "      <th>4</th>\n",
       "      <td>5</td>\n",
       "      <td>Specialty Bike Shop</td>\n",
       "      <td>Metropolitan Sports Supply</td>\n",
       "      <td>Fremont</td>\n",
       "      <td>California</td>\n",
       "      <td>United States</td>\n",
       "    </tr>\n",
       "  </tbody>\n",
       "</table>\n",
       "</div>"
      ],
      "text/plain": [
       "   resellerkey         business_type                    reseller     city  \\\n",
       "0            1  Value Added Reseller                A Bike Store  Seattle   \n",
       "1            2   Specialty Bike Shop          Progressive Sports   Renton   \n",
       "2            3             Warehouse    Advanced Bike Components   Irving   \n",
       "3            4  Value Added Reseller       Modular Cycle Systems   Austin   \n",
       "4            5   Specialty Bike Shop  Metropolitan Sports Supply  Fremont   \n",
       "\n",
       "  state_province country_region  \n",
       "0     Washington  United States  \n",
       "1     Washington  United States  \n",
       "2          Texas  United States  \n",
       "3          Texas  United States  \n",
       "4     California  United States  "
      ]
     },
     "execution_count": 49,
     "metadata": {},
     "output_type": "execute_result"
    }
   ],
   "source": [
    "df_reseller = pd.read_csv('reseller_cleaned.csv')\n",
    "df_reseller.head()"
   ]
  },
  {
   "cell_type": "code",
   "execution_count": 55,
   "metadata": {},
   "outputs": [],
   "source": [
    "reseller_table_query = \"\"\"CREATE TABLE reseller (\n",
    "    resellerkey INT PRIMARY KEY,         -- Unique key for each reseller\n",
    "    business_type VARCHAR(255) NOT NULL, -- Type of business\n",
    "    reseller VARCHAR(255) NOT NULL,      -- Reseller name\n",
    "    city VARCHAR(100) NOT NULL,          -- City where reseller is located\n",
    "    state_province VARCHAR(100) NOT NULL, -- State or province\n",
    "    country_region VARCHAR(100) NOT NULL -- Country or region\n",
    ");\n",
    "\"\"\"\n",
    "cursor.execute(reseller_table_query)\n",
    "conn.commit()"
   ]
  },
  {
   "cell_type": "code",
   "execution_count": 56,
   "metadata": {},
   "outputs": [
    {
     "name": "stdout",
     "output_type": "stream",
     "text": [
      "CSV data imported successfully!\n"
     ]
    }
   ],
   "source": [
    "for _, row in df_reseller.iterrows():\n",
    "    cursor.execute(\n",
    "        \"\"\"\n",
    "        INSERT INTO reseller (resellerkey, business_type, reseller, city, state_province, country_region)\n",
    "        VALUES (%s, %s, %s, %s, %s, %s)\n",
    "        \"\"\",\n",
    "        (row[\"resellerkey\"], \n",
    "         row[\"business_type\"], \n",
    "         row[\"reseller\"], \n",
    "         row[\"city\"], \n",
    "         row[\"state_province\"], \n",
    "         row[\"country_region\"])\n",
    "    )\n",
    "\n",
    "# Commit and close connection\n",
    "conn.commit()\n",
    "print(\"CSV data imported successfully!\")\n"
   ]
  },
  {
   "cell_type": "code",
   "execution_count": 58,
   "metadata": {},
   "outputs": [
    {
     "data": {
      "text/html": [
       "<div>\n",
       "<style scoped>\n",
       "    .dataframe tbody tr th:only-of-type {\n",
       "        vertical-align: middle;\n",
       "    }\n",
       "\n",
       "    .dataframe tbody tr th {\n",
       "        vertical-align: top;\n",
       "    }\n",
       "\n",
       "    .dataframe thead th {\n",
       "        text-align: right;\n",
       "    }\n",
       "</style>\n",
       "<table border=\"1\" class=\"dataframe\">\n",
       "  <thead>\n",
       "    <tr style=\"text-align: right;\">\n",
       "      <th></th>\n",
       "      <th>salesordernumber</th>\n",
       "      <th>orderdate</th>\n",
       "      <th>productkey</th>\n",
       "      <th>resellerkey</th>\n",
       "      <th>employeekey</th>\n",
       "      <th>salesterritorykey</th>\n",
       "      <th>quantity</th>\n",
       "      <th>unit_price</th>\n",
       "      <th>sales</th>\n",
       "      <th>cost</th>\n",
       "    </tr>\n",
       "  </thead>\n",
       "  <tbody>\n",
       "    <tr>\n",
       "      <th>0</th>\n",
       "      <td>SO43897</td>\n",
       "      <td>2017-08-25</td>\n",
       "      <td>235</td>\n",
       "      <td>312</td>\n",
       "      <td>282</td>\n",
       "      <td>4</td>\n",
       "      <td>2</td>\n",
       "      <td>28.84</td>\n",
       "      <td>57.68</td>\n",
       "      <td>63.45</td>\n",
       "    </tr>\n",
       "    <tr>\n",
       "      <th>1</th>\n",
       "      <td>SO43897</td>\n",
       "      <td>2017-08-25</td>\n",
       "      <td>351</td>\n",
       "      <td>312</td>\n",
       "      <td>282</td>\n",
       "      <td>4</td>\n",
       "      <td>2</td>\n",
       "      <td>2024.99</td>\n",
       "      <td>4049.98</td>\n",
       "      <td>3796.19</td>\n",
       "    </tr>\n",
       "    <tr>\n",
       "      <th>2</th>\n",
       "      <td>SO43897</td>\n",
       "      <td>2017-08-25</td>\n",
       "      <td>348</td>\n",
       "      <td>312</td>\n",
       "      <td>282</td>\n",
       "      <td>4</td>\n",
       "      <td>2</td>\n",
       "      <td>2024.99</td>\n",
       "      <td>4049.98</td>\n",
       "      <td>3796.19</td>\n",
       "    </tr>\n",
       "    <tr>\n",
       "      <th>3</th>\n",
       "      <td>SO43897</td>\n",
       "      <td>2017-08-25</td>\n",
       "      <td>232</td>\n",
       "      <td>312</td>\n",
       "      <td>282</td>\n",
       "      <td>4</td>\n",
       "      <td>2</td>\n",
       "      <td>28.84</td>\n",
       "      <td>57.68</td>\n",
       "      <td>63.45</td>\n",
       "    </tr>\n",
       "    <tr>\n",
       "      <th>4</th>\n",
       "      <td>SO44544</td>\n",
       "      <td>2017-11-18</td>\n",
       "      <td>292</td>\n",
       "      <td>312</td>\n",
       "      <td>282</td>\n",
       "      <td>4</td>\n",
       "      <td>2</td>\n",
       "      <td>818.70</td>\n",
       "      <td>1637.40</td>\n",
       "      <td>1413.62</td>\n",
       "    </tr>\n",
       "  </tbody>\n",
       "</table>\n",
       "</div>"
      ],
      "text/plain": [
       "  salesordernumber   orderdate  productkey  resellerkey  employeekey  \\\n",
       "0          SO43897  2017-08-25         235          312          282   \n",
       "1          SO43897  2017-08-25         351          312          282   \n",
       "2          SO43897  2017-08-25         348          312          282   \n",
       "3          SO43897  2017-08-25         232          312          282   \n",
       "4          SO44544  2017-11-18         292          312          282   \n",
       "\n",
       "   salesterritorykey  quantity  unit_price    sales     cost  \n",
       "0                  4         2       28.84    57.68    63.45  \n",
       "1                  4         2     2024.99  4049.98  3796.19  \n",
       "2                  4         2     2024.99  4049.98  3796.19  \n",
       "3                  4         2       28.84    57.68    63.45  \n",
       "4                  4         2      818.70  1637.40  1413.62  "
      ]
     },
     "execution_count": 58,
     "metadata": {},
     "output_type": "execute_result"
    }
   ],
   "source": [
    "df_sales = pd.read_csv('sales_cleaned.csv')\n",
    "df_sales.head()"
   ]
  },
  {
   "cell_type": "code",
   "execution_count": 59,
   "metadata": {},
   "outputs": [
    {
     "data": {
      "text/html": [
       "<div>\n",
       "<style scoped>\n",
       "    .dataframe tbody tr th:only-of-type {\n",
       "        vertical-align: middle;\n",
       "    }\n",
       "\n",
       "    .dataframe tbody tr th {\n",
       "        vertical-align: top;\n",
       "    }\n",
       "\n",
       "    .dataframe thead th {\n",
       "        text-align: right;\n",
       "    }\n",
       "</style>\n",
       "<table border=\"1\" class=\"dataframe\">\n",
       "  <thead>\n",
       "    <tr style=\"text-align: right;\">\n",
       "      <th></th>\n",
       "      <th>employeekey</th>\n",
       "      <th>employeeid</th>\n",
       "      <th>salesperson</th>\n",
       "      <th>title</th>\n",
       "      <th>upn</th>\n",
       "    </tr>\n",
       "  </thead>\n",
       "  <tbody>\n",
       "    <tr>\n",
       "      <th>0</th>\n",
       "      <td>272</td>\n",
       "      <td>502097814</td>\n",
       "      <td>Stephen Jiang</td>\n",
       "      <td>North American Sales Manager</td>\n",
       "      <td>stephen-jiang@adventureworks.com</td>\n",
       "    </tr>\n",
       "    <tr>\n",
       "      <th>1</th>\n",
       "      <td>277</td>\n",
       "      <td>112432117</td>\n",
       "      <td>Brian Welcker</td>\n",
       "      <td>Director of Sales</td>\n",
       "      <td>brian-welcker@adventureworks.com</td>\n",
       "    </tr>\n",
       "    <tr>\n",
       "      <th>2</th>\n",
       "      <td>281</td>\n",
       "      <td>841560125</td>\n",
       "      <td>Michael Blythe</td>\n",
       "      <td>Sales Representative</td>\n",
       "      <td>michael-blythe@adventureworks.com</td>\n",
       "    </tr>\n",
       "    <tr>\n",
       "      <th>3</th>\n",
       "      <td>282</td>\n",
       "      <td>191644724</td>\n",
       "      <td>Linda Mitchell</td>\n",
       "      <td>Sales Representative</td>\n",
       "      <td>linda-mitchell@adventureworks.com</td>\n",
       "    </tr>\n",
       "    <tr>\n",
       "      <th>4</th>\n",
       "      <td>283</td>\n",
       "      <td>615389812</td>\n",
       "      <td>Jillian Carson</td>\n",
       "      <td>Sales Representative</td>\n",
       "      <td>jillian-carson@adventureworks.com</td>\n",
       "    </tr>\n",
       "  </tbody>\n",
       "</table>\n",
       "</div>"
      ],
      "text/plain": [
       "   employeekey  employeeid     salesperson                         title  \\\n",
       "0          272   502097814   Stephen Jiang  North American Sales Manager   \n",
       "1          277   112432117   Brian Welcker             Director of Sales   \n",
       "2          281   841560125  Michael Blythe          Sales Representative   \n",
       "3          282   191644724  Linda Mitchell          Sales Representative   \n",
       "4          283   615389812  Jillian Carson          Sales Representative   \n",
       "\n",
       "                                 upn  \n",
       "0   stephen-jiang@adventureworks.com  \n",
       "1   brian-welcker@adventureworks.com  \n",
       "2  michael-blythe@adventureworks.com  \n",
       "3  linda-mitchell@adventureworks.com  \n",
       "4  jillian-carson@adventureworks.com  "
      ]
     },
     "execution_count": 59,
     "metadata": {},
     "output_type": "execute_result"
    }
   ],
   "source": [
    "df_salesperson = pd.read_csv('salesperson_cleaned.csv') \n",
    "df_salesperson.head()"
   ]
  },
  {
   "cell_type": "code",
   "execution_count": 61,
   "metadata": {},
   "outputs": [],
   "source": [
    "create_employee_table = \"\"\"CREATE TABLE employee (\n",
    "    employeekey INT PRIMARY KEY,          -- Unique identifier for employees\n",
    "    employeeid BIGINT UNIQUE NOT NULL,    -- Employee ID (large integer)\n",
    "    salesperson VARCHAR(100) NOT NULL,    -- Name of the salesperson\n",
    "    title VARCHAR(100) NOT NULL,          -- Job title\n",
    "    upn VARCHAR(255) UNIQUE NOT NULL      -- Email address (User Principal Name)\n",
    ");\n",
    "\"\"\"\n",
    "cursor.execute(create_employee_table)\n",
    "conn.commit()"
   ]
  },
  {
   "cell_type": "code",
   "execution_count": 62,
   "metadata": {},
   "outputs": [
    {
     "name": "stdout",
     "output_type": "stream",
     "text": [
      "CSV data imported successfully!\n"
     ]
    }
   ],
   "source": [
    "for _, row in df_salesperson.iterrows():\n",
    "    cursor.execute(\n",
    "        \"\"\"\n",
    "        INSERT INTO employee (employeekey, employeeid, salesperson, title, upn)\n",
    "        VALUES (%s, %s, %s, %s, %s)\n",
    "        \"\"\",\n",
    "        (row[\"employeekey\"], \n",
    "         row[\"employeeid\"], \n",
    "         row[\"salesperson\"], \n",
    "         row[\"title\"], \n",
    "         row[\"upn\"])\n",
    "    )\n",
    "\n",
    "# Commit and close connection\n",
    "conn.commit()\n",
    "print(\"CSV data imported successfully!\")\n"
   ]
  },
  {
   "cell_type": "code",
   "execution_count": null,
   "metadata": {},
   "outputs": [],
   "source": []
  }
 ],
 "metadata": {
  "kernelspec": {
   "display_name": "Python 3",
   "language": "python",
   "name": "python3"
  },
  "language_info": {
   "codemirror_mode": {
    "name": "ipython",
    "version": 3
   },
   "file_extension": ".py",
   "mimetype": "text/x-python",
   "name": "python",
   "nbconvert_exporter": "python",
   "pygments_lexer": "ipython3",
   "version": "3.12.2"
  }
 },
 "nbformat": 4,
 "nbformat_minor": 2
}
