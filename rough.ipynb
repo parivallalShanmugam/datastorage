{
 "cells": [
  {
   "cell_type": "code",
   "execution_count": 1,
   "metadata": {},
   "outputs": [],
   "source": [
    "import pandas as pd\n"
   ]
  },
  {
   "cell_type": "code",
   "execution_count": 3,
   "metadata": {},
   "outputs": [],
   "source": [
    "df_products = pd.read_csv('product.csv')"
   ]
  },
  {
   "cell_type": "code",
   "execution_count": 5,
   "metadata": {},
   "outputs": [
    {
     "data": {
      "text/html": [
       "<div>\n",
       "<style scoped>\n",
       "    .dataframe tbody tr th:only-of-type {\n",
       "        vertical-align: middle;\n",
       "    }\n",
       "\n",
       "    .dataframe tbody tr th {\n",
       "        vertical-align: top;\n",
       "    }\n",
       "\n",
       "    .dataframe thead th {\n",
       "        text-align: right;\n",
       "    }\n",
       "</style>\n",
       "<table border=\"1\" class=\"dataframe\">\n",
       "  <thead>\n",
       "    <tr style=\"text-align: right;\">\n",
       "      <th></th>\n",
       "      <th>ProductKey</th>\n",
       "      <th>Product</th>\n",
       "      <th>Standard Cost</th>\n",
       "      <th>Color</th>\n",
       "      <th>Subcategory</th>\n",
       "      <th>Category</th>\n",
       "    </tr>\n",
       "  </thead>\n",
       "  <tbody>\n",
       "    <tr>\n",
       "      <th>0</th>\n",
       "      <td>210</td>\n",
       "      <td>HL Road Frame - Black, 58</td>\n",
       "      <td>$868.63</td>\n",
       "      <td>Black</td>\n",
       "      <td>Road Frames</td>\n",
       "      <td>Components</td>\n",
       "    </tr>\n",
       "    <tr>\n",
       "      <th>1</th>\n",
       "      <td>215</td>\n",
       "      <td>Sport-100 Helmet, Black</td>\n",
       "      <td>$12.03</td>\n",
       "      <td>Black</td>\n",
       "      <td>Helmets</td>\n",
       "      <td>Accessories</td>\n",
       "    </tr>\n",
       "    <tr>\n",
       "      <th>2</th>\n",
       "      <td>216</td>\n",
       "      <td>Sport-100 Helmet, Black</td>\n",
       "      <td>$13.88</td>\n",
       "      <td>Black</td>\n",
       "      <td>Helmets</td>\n",
       "      <td>Accessories</td>\n",
       "    </tr>\n",
       "    <tr>\n",
       "      <th>3</th>\n",
       "      <td>217</td>\n",
       "      <td>Sport-100 Helmet, Black</td>\n",
       "      <td>$13.09</td>\n",
       "      <td>Black</td>\n",
       "      <td>Helmets</td>\n",
       "      <td>Accessories</td>\n",
       "    </tr>\n",
       "    <tr>\n",
       "      <th>4</th>\n",
       "      <td>253</td>\n",
       "      <td>LL Road Frame - Black, 58</td>\n",
       "      <td>$176.2</td>\n",
       "      <td>Black</td>\n",
       "      <td>Road Frames</td>\n",
       "      <td>Components</td>\n",
       "    </tr>\n",
       "  </tbody>\n",
       "</table>\n",
       "</div>"
      ],
      "text/plain": [
       "   ProductKey                    Product Standard Cost  Color  Subcategory  \\\n",
       "0         210  HL Road Frame - Black, 58       $868.63  Black  Road Frames   \n",
       "1         215    Sport-100 Helmet, Black        $12.03  Black      Helmets   \n",
       "2         216    Sport-100 Helmet, Black        $13.88  Black      Helmets   \n",
       "3         217    Sport-100 Helmet, Black        $13.09  Black      Helmets   \n",
       "4         253  LL Road Frame - Black, 58        $176.2  Black  Road Frames   \n",
       "\n",
       "      Category  \n",
       "0   Components  \n",
       "1  Accessories  \n",
       "2  Accessories  \n",
       "3  Accessories  \n",
       "4   Components  "
      ]
     },
     "execution_count": 5,
     "metadata": {},
     "output_type": "execute_result"
    }
   ],
   "source": [
    "df_products.head()"
   ]
  },
  {
   "cell_type": "code",
   "execution_count": 8,
   "metadata": {},
   "outputs": [],
   "source": [
    "df_products.columns = df_products.columns.str.replace(' ', '_').str.lower()\n"
   ]
  },
  {
   "cell_type": "code",
   "execution_count": 9,
   "metadata": {},
   "outputs": [
    {
     "data": {
      "text/plain": [
       "Index(['productkey', 'product', 'standard_cost', 'color', 'subcategory',\n",
       "       'category'],\n",
       "      dtype='object')"
      ]
     },
     "execution_count": 9,
     "metadata": {},
     "output_type": "execute_result"
    }
   ],
   "source": [
    "df_products.columns"
   ]
  },
  {
   "cell_type": "code",
   "execution_count": 19,
   "metadata": {},
   "outputs": [
    {
     "name": "stdout",
     "output_type": "stream",
     "text": [
      "<class 'pandas.core.frame.DataFrame'>\n",
      "RangeIndex: 397 entries, 0 to 396\n",
      "Data columns (total 6 columns):\n",
      " #   Column         Non-Null Count  Dtype  \n",
      "---  ------         --------------  -----  \n",
      " 0   productkey     397 non-null    int64  \n",
      " 1   product        397 non-null    object \n",
      " 2   standard_cost  397 non-null    float64\n",
      " 3   color          341 non-null    object \n",
      " 4   subcategory    397 non-null    object \n",
      " 5   category       397 non-null    object \n",
      "dtypes: float64(1), int64(1), object(4)\n",
      "memory usage: 18.7+ KB\n"
     ]
    }
   ],
   "source": [
    "df_products.info()"
   ]
  },
  {
   "cell_type": "code",
   "execution_count": 12,
   "metadata": {},
   "outputs": [],
   "source": [
    "df_products['standard_cost'] = df_products['standard_cost'].str.replace('$', '')"
   ]
  },
  {
   "cell_type": "code",
   "execution_count": 15,
   "metadata": {},
   "outputs": [
    {
     "data": {
      "text/html": [
       "<div>\n",
       "<style scoped>\n",
       "    .dataframe tbody tr th:only-of-type {\n",
       "        vertical-align: middle;\n",
       "    }\n",
       "\n",
       "    .dataframe tbody tr th {\n",
       "        vertical-align: top;\n",
       "    }\n",
       "\n",
       "    .dataframe thead th {\n",
       "        text-align: right;\n",
       "    }\n",
       "</style>\n",
       "<table border=\"1\" class=\"dataframe\">\n",
       "  <thead>\n",
       "    <tr style=\"text-align: right;\">\n",
       "      <th></th>\n",
       "      <th>productkey</th>\n",
       "      <th>product</th>\n",
       "      <th>standard_cost</th>\n",
       "      <th>color</th>\n",
       "      <th>subcategory</th>\n",
       "      <th>category</th>\n",
       "    </tr>\n",
       "  </thead>\n",
       "  <tbody>\n",
       "    <tr>\n",
       "      <th>0</th>\n",
       "      <td>210</td>\n",
       "      <td>HL Road Frame - Black, 58</td>\n",
       "      <td>868.63</td>\n",
       "      <td>Black</td>\n",
       "      <td>Road Frames</td>\n",
       "      <td>Components</td>\n",
       "    </tr>\n",
       "    <tr>\n",
       "      <th>1</th>\n",
       "      <td>215</td>\n",
       "      <td>Sport-100 Helmet, Black</td>\n",
       "      <td>12.03</td>\n",
       "      <td>Black</td>\n",
       "      <td>Helmets</td>\n",
       "      <td>Accessories</td>\n",
       "    </tr>\n",
       "    <tr>\n",
       "      <th>2</th>\n",
       "      <td>216</td>\n",
       "      <td>Sport-100 Helmet, Black</td>\n",
       "      <td>13.88</td>\n",
       "      <td>Black</td>\n",
       "      <td>Helmets</td>\n",
       "      <td>Accessories</td>\n",
       "    </tr>\n",
       "    <tr>\n",
       "      <th>3</th>\n",
       "      <td>217</td>\n",
       "      <td>Sport-100 Helmet, Black</td>\n",
       "      <td>13.09</td>\n",
       "      <td>Black</td>\n",
       "      <td>Helmets</td>\n",
       "      <td>Accessories</td>\n",
       "    </tr>\n",
       "    <tr>\n",
       "      <th>4</th>\n",
       "      <td>253</td>\n",
       "      <td>LL Road Frame - Black, 58</td>\n",
       "      <td>176.2</td>\n",
       "      <td>Black</td>\n",
       "      <td>Road Frames</td>\n",
       "      <td>Components</td>\n",
       "    </tr>\n",
       "  </tbody>\n",
       "</table>\n",
       "</div>"
      ],
      "text/plain": [
       "   productkey                    product standard_cost  color  subcategory  \\\n",
       "0         210  HL Road Frame - Black, 58        868.63  Black  Road Frames   \n",
       "1         215    Sport-100 Helmet, Black         12.03  Black      Helmets   \n",
       "2         216    Sport-100 Helmet, Black         13.88  Black      Helmets   \n",
       "3         217    Sport-100 Helmet, Black         13.09  Black      Helmets   \n",
       "4         253  LL Road Frame - Black, 58         176.2  Black  Road Frames   \n",
       "\n",
       "      category  \n",
       "0   Components  \n",
       "1  Accessories  \n",
       "2  Accessories  \n",
       "3  Accessories  \n",
       "4   Components  "
      ]
     },
     "execution_count": 15,
     "metadata": {},
     "output_type": "execute_result"
    }
   ],
   "source": [
    "df_products.head()"
   ]
  },
  {
   "cell_type": "code",
   "execution_count": 18,
   "metadata": {},
   "outputs": [],
   "source": [
    "df_products['standard_cost'] = df_products['standard_cost'].str.replace(',', '').astype(float)"
   ]
  },
  {
   "cell_type": "code",
   "execution_count": 20,
   "metadata": {},
   "outputs": [],
   "source": [
    "df_products.to_csv('product_cleaned.csv', index=False)"
   ]
  },
  {
   "cell_type": "code",
   "execution_count": 21,
   "metadata": {},
   "outputs": [],
   "source": [
    "df_region = pd.read_csv('region.csv')"
   ]
  },
  {
   "cell_type": "code",
   "execution_count": 24,
   "metadata": {},
   "outputs": [
    {
     "data": {
      "text/html": [
       "<div>\n",
       "<style scoped>\n",
       "    .dataframe tbody tr th:only-of-type {\n",
       "        vertical-align: middle;\n",
       "    }\n",
       "\n",
       "    .dataframe tbody tr th {\n",
       "        vertical-align: top;\n",
       "    }\n",
       "\n",
       "    .dataframe thead th {\n",
       "        text-align: right;\n",
       "    }\n",
       "</style>\n",
       "<table border=\"1\" class=\"dataframe\">\n",
       "  <thead>\n",
       "    <tr style=\"text-align: right;\">\n",
       "      <th></th>\n",
       "      <th>SalesTerritoryKey</th>\n",
       "      <th>Region</th>\n",
       "      <th>Country</th>\n",
       "      <th>Group</th>\n",
       "    </tr>\n",
       "  </thead>\n",
       "  <tbody>\n",
       "    <tr>\n",
       "      <th>0</th>\n",
       "      <td>1</td>\n",
       "      <td>Northwest</td>\n",
       "      <td>United States</td>\n",
       "      <td>North America</td>\n",
       "    </tr>\n",
       "    <tr>\n",
       "      <th>1</th>\n",
       "      <td>2</td>\n",
       "      <td>Northeast</td>\n",
       "      <td>United States</td>\n",
       "      <td>North America</td>\n",
       "    </tr>\n",
       "    <tr>\n",
       "      <th>2</th>\n",
       "      <td>3</td>\n",
       "      <td>Central</td>\n",
       "      <td>United States</td>\n",
       "      <td>North America</td>\n",
       "    </tr>\n",
       "    <tr>\n",
       "      <th>3</th>\n",
       "      <td>4</td>\n",
       "      <td>Southwest</td>\n",
       "      <td>United States</td>\n",
       "      <td>North America</td>\n",
       "    </tr>\n",
       "    <tr>\n",
       "      <th>4</th>\n",
       "      <td>5</td>\n",
       "      <td>Southeast</td>\n",
       "      <td>United States</td>\n",
       "      <td>North America</td>\n",
       "    </tr>\n",
       "    <tr>\n",
       "      <th>5</th>\n",
       "      <td>6</td>\n",
       "      <td>Canada</td>\n",
       "      <td>Canada</td>\n",
       "      <td>North America</td>\n",
       "    </tr>\n",
       "    <tr>\n",
       "      <th>6</th>\n",
       "      <td>7</td>\n",
       "      <td>France</td>\n",
       "      <td>France</td>\n",
       "      <td>Europe</td>\n",
       "    </tr>\n",
       "    <tr>\n",
       "      <th>7</th>\n",
       "      <td>8</td>\n",
       "      <td>Germany</td>\n",
       "      <td>Germany</td>\n",
       "      <td>Europe</td>\n",
       "    </tr>\n",
       "    <tr>\n",
       "      <th>8</th>\n",
       "      <td>9</td>\n",
       "      <td>Australia</td>\n",
       "      <td>Australia</td>\n",
       "      <td>Pacific</td>\n",
       "    </tr>\n",
       "    <tr>\n",
       "      <th>9</th>\n",
       "      <td>10</td>\n",
       "      <td>United Kingdom</td>\n",
       "      <td>United Kingdom</td>\n",
       "      <td>Europe</td>\n",
       "    </tr>\n",
       "  </tbody>\n",
       "</table>\n",
       "</div>"
      ],
      "text/plain": [
       "   SalesTerritoryKey          Region         Country          Group\n",
       "0                  1       Northwest   United States  North America\n",
       "1                  2       Northeast   United States  North America\n",
       "2                  3         Central   United States  North America\n",
       "3                  4       Southwest   United States  North America\n",
       "4                  5       Southeast   United States  North America\n",
       "5                  6          Canada          Canada  North America\n",
       "6                  7          France          France         Europe\n",
       "7                  8         Germany         Germany         Europe\n",
       "8                  9       Australia       Australia        Pacific\n",
       "9                 10  United Kingdom  United Kingdom         Europe"
      ]
     },
     "execution_count": 24,
     "metadata": {},
     "output_type": "execute_result"
    }
   ],
   "source": [
    "df_region.head(40)"
   ]
  },
  {
   "cell_type": "code",
   "execution_count": 25,
   "metadata": {},
   "outputs": [],
   "source": [
    "df_region.columns = df_region.columns.str.replace(' ', '_').str.lower()"
   ]
  },
  {
   "cell_type": "code",
   "execution_count": 26,
   "metadata": {},
   "outputs": [
    {
     "name": "stdout",
     "output_type": "stream",
     "text": [
      "<class 'pandas.core.frame.DataFrame'>\n",
      "RangeIndex: 10 entries, 0 to 9\n",
      "Data columns (total 4 columns):\n",
      " #   Column             Non-Null Count  Dtype \n",
      "---  ------             --------------  ----- \n",
      " 0   salesterritorykey  10 non-null     int64 \n",
      " 1   region             10 non-null     object\n",
      " 2   country            10 non-null     object\n",
      " 3   group              10 non-null     object\n",
      "dtypes: int64(1), object(3)\n",
      "memory usage: 452.0+ bytes\n"
     ]
    }
   ],
   "source": [
    "df_region.info()"
   ]
  },
  {
   "cell_type": "code",
   "execution_count": 27,
   "metadata": {},
   "outputs": [],
   "source": [
    "df_region.to_csv('region_cleaned.csv', index=False)"
   ]
  },
  {
   "cell_type": "code",
   "execution_count": 28,
   "metadata": {},
   "outputs": [
    {
     "data": {
      "text/html": [
       "<div>\n",
       "<style scoped>\n",
       "    .dataframe tbody tr th:only-of-type {\n",
       "        vertical-align: middle;\n",
       "    }\n",
       "\n",
       "    .dataframe tbody tr th {\n",
       "        vertical-align: top;\n",
       "    }\n",
       "\n",
       "    .dataframe thead th {\n",
       "        text-align: right;\n",
       "    }\n",
       "</style>\n",
       "<table border=\"1\" class=\"dataframe\">\n",
       "  <thead>\n",
       "    <tr style=\"text-align: right;\">\n",
       "      <th></th>\n",
       "      <th>ResellerKey</th>\n",
       "      <th>Business Type</th>\n",
       "      <th>Reseller</th>\n",
       "      <th>City</th>\n",
       "      <th>State-Province</th>\n",
       "      <th>Country-Region</th>\n",
       "    </tr>\n",
       "  </thead>\n",
       "  <tbody>\n",
       "    <tr>\n",
       "      <th>0</th>\n",
       "      <td>277</td>\n",
       "      <td>Specialty Bike Shop</td>\n",
       "      <td>The Bicycle Accessories Company</td>\n",
       "      <td>Alhambra</td>\n",
       "      <td>California</td>\n",
       "      <td>United States</td>\n",
       "    </tr>\n",
       "    <tr>\n",
       "      <th>1</th>\n",
       "      <td>455</td>\n",
       "      <td>Value Added Reseller</td>\n",
       "      <td>Timely Shipping Service</td>\n",
       "      <td>Alpine</td>\n",
       "      <td>California</td>\n",
       "      <td>United States</td>\n",
       "    </tr>\n",
       "    <tr>\n",
       "      <th>2</th>\n",
       "      <td>609</td>\n",
       "      <td>Value Added Reseller</td>\n",
       "      <td>Good Toys</td>\n",
       "      <td>Auburn</td>\n",
       "      <td>California</td>\n",
       "      <td>United States</td>\n",
       "    </tr>\n",
       "    <tr>\n",
       "      <th>3</th>\n",
       "      <td>492</td>\n",
       "      <td>Specialty Bike Shop</td>\n",
       "      <td>Basic Sports Equipment</td>\n",
       "      <td>Baldwin Park</td>\n",
       "      <td>California</td>\n",
       "      <td>United States</td>\n",
       "    </tr>\n",
       "    <tr>\n",
       "      <th>4</th>\n",
       "      <td>365</td>\n",
       "      <td>Specialty Bike Shop</td>\n",
       "      <td>Distinctive Store</td>\n",
       "      <td>Barstow</td>\n",
       "      <td>California</td>\n",
       "      <td>United States</td>\n",
       "    </tr>\n",
       "  </tbody>\n",
       "</table>\n",
       "</div>"
      ],
      "text/plain": [
       "   ResellerKey         Business Type                         Reseller  \\\n",
       "0          277   Specialty Bike Shop  The Bicycle Accessories Company   \n",
       "1          455  Value Added Reseller          Timely Shipping Service   \n",
       "2          609  Value Added Reseller                        Good Toys   \n",
       "3          492   Specialty Bike Shop           Basic Sports Equipment   \n",
       "4          365   Specialty Bike Shop                Distinctive Store   \n",
       "\n",
       "           City State-Province Country-Region  \n",
       "0      Alhambra     California  United States  \n",
       "1        Alpine     California  United States  \n",
       "2        Auburn     California  United States  \n",
       "3  Baldwin Park     California  United States  \n",
       "4       Barstow     California  United States  "
      ]
     },
     "execution_count": 28,
     "metadata": {},
     "output_type": "execute_result"
    }
   ],
   "source": [
    "df_reseller = pd.read_csv('reseller.csv')\n",
    "df_reseller.head()"
   ]
  },
  {
   "cell_type": "code",
   "execution_count": 29,
   "metadata": {},
   "outputs": [
    {
     "data": {
      "text/plain": [
       "(701, 6)"
      ]
     },
     "execution_count": 29,
     "metadata": {},
     "output_type": "execute_result"
    }
   ],
   "source": [
    "df_reseller.shape"
   ]
  },
  {
   "cell_type": "code",
   "execution_count": 32,
   "metadata": {},
   "outputs": [],
   "source": [
    "df_reseller.columns = df_reseller.columns.str.replace('-', '_').str.replace(' ','_').str.lower()"
   ]
  },
  {
   "cell_type": "code",
   "execution_count": 33,
   "metadata": {},
   "outputs": [
    {
     "data": {
      "text/plain": [
       "Index(['resellerkey', 'business_type', 'reseller', 'city', 'state_province',\n",
       "       'country_region'],\n",
       "      dtype='object')"
      ]
     },
     "execution_count": 33,
     "metadata": {},
     "output_type": "execute_result"
    }
   ],
   "source": [
    "df_reseller.columns"
   ]
  },
  {
   "cell_type": "code",
   "execution_count": 34,
   "metadata": {},
   "outputs": [],
   "source": [
    "df_reseller.to_csv('reseller_cleaned.csv', index=False)"
   ]
  },
  {
   "cell_type": "code",
   "execution_count": 35,
   "metadata": {},
   "outputs": [
    {
     "ename": "NameError",
     "evalue": "name 'df' is not defined",
     "output_type": "error",
     "traceback": [
      "\u001b[1;31m---------------------------------------------------------------------------\u001b[0m",
      "\u001b[1;31mNameError\u001b[0m                                 Traceback (most recent call last)",
      "Cell \u001b[1;32mIn[35], line 1\u001b[0m\n\u001b[1;32m----> 1\u001b[0m \u001b[43mdf\u001b[49m\n",
      "\u001b[1;31mNameError\u001b[0m: name 'df' is not defined"
     ]
    }
   ],
   "source": [
    "df"
   ]
  },
  {
   "cell_type": "code",
   "execution_count": 36,
   "metadata": {},
   "outputs": [
    {
     "data": {
      "text/html": [
       "<div>\n",
       "<style scoped>\n",
       "    .dataframe tbody tr th:only-of-type {\n",
       "        vertical-align: middle;\n",
       "    }\n",
       "\n",
       "    .dataframe tbody tr th {\n",
       "        vertical-align: top;\n",
       "    }\n",
       "\n",
       "    .dataframe thead th {\n",
       "        text-align: right;\n",
       "    }\n",
       "</style>\n",
       "<table border=\"1\" class=\"dataframe\">\n",
       "  <thead>\n",
       "    <tr style=\"text-align: right;\">\n",
       "      <th></th>\n",
       "      <th>SalesOrderNumber</th>\n",
       "      <th>OrderDate</th>\n",
       "      <th>ProductKey</th>\n",
       "      <th>ResellerKey</th>\n",
       "      <th>EmployeeKey</th>\n",
       "      <th>SalesTerritoryKey</th>\n",
       "      <th>Quantity</th>\n",
       "      <th>Unit Price</th>\n",
       "      <th>Sales</th>\n",
       "      <th>Cost</th>\n",
       "    </tr>\n",
       "  </thead>\n",
       "  <tbody>\n",
       "    <tr>\n",
       "      <th>0</th>\n",
       "      <td>SO43897</td>\n",
       "      <td>25-08-2017</td>\n",
       "      <td>235</td>\n",
       "      <td>312</td>\n",
       "      <td>282</td>\n",
       "      <td>4</td>\n",
       "      <td>2</td>\n",
       "      <td>28.84</td>\n",
       "      <td>57.68</td>\n",
       "      <td>63.45</td>\n",
       "    </tr>\n",
       "    <tr>\n",
       "      <th>1</th>\n",
       "      <td>SO43897</td>\n",
       "      <td>25-08-2017</td>\n",
       "      <td>351</td>\n",
       "      <td>312</td>\n",
       "      <td>282</td>\n",
       "      <td>4</td>\n",
       "      <td>2</td>\n",
       "      <td>2024.99</td>\n",
       "      <td>4049.98</td>\n",
       "      <td>3796.19</td>\n",
       "    </tr>\n",
       "    <tr>\n",
       "      <th>2</th>\n",
       "      <td>SO43897</td>\n",
       "      <td>25-08-2017</td>\n",
       "      <td>348</td>\n",
       "      <td>312</td>\n",
       "      <td>282</td>\n",
       "      <td>4</td>\n",
       "      <td>2</td>\n",
       "      <td>2024.99</td>\n",
       "      <td>4049.98</td>\n",
       "      <td>3796.19</td>\n",
       "    </tr>\n",
       "    <tr>\n",
       "      <th>3</th>\n",
       "      <td>SO43897</td>\n",
       "      <td>25-08-2017</td>\n",
       "      <td>232</td>\n",
       "      <td>312</td>\n",
       "      <td>282</td>\n",
       "      <td>4</td>\n",
       "      <td>2</td>\n",
       "      <td>28.84</td>\n",
       "      <td>57.68</td>\n",
       "      <td>63.45</td>\n",
       "    </tr>\n",
       "    <tr>\n",
       "      <th>4</th>\n",
       "      <td>SO44544</td>\n",
       "      <td>18-11-2017</td>\n",
       "      <td>292</td>\n",
       "      <td>312</td>\n",
       "      <td>282</td>\n",
       "      <td>4</td>\n",
       "      <td>2</td>\n",
       "      <td>818.70</td>\n",
       "      <td>1637.40</td>\n",
       "      <td>1413.62</td>\n",
       "    </tr>\n",
       "  </tbody>\n",
       "</table>\n",
       "</div>"
      ],
      "text/plain": [
       "  SalesOrderNumber   OrderDate  ProductKey  ResellerKey  EmployeeKey  \\\n",
       "0          SO43897  25-08-2017         235          312          282   \n",
       "1          SO43897  25-08-2017         351          312          282   \n",
       "2          SO43897  25-08-2017         348          312          282   \n",
       "3          SO43897  25-08-2017         232          312          282   \n",
       "4          SO44544  18-11-2017         292          312          282   \n",
       "\n",
       "   SalesTerritoryKey  Quantity  Unit Price    Sales     Cost  \n",
       "0                  4         2       28.84    57.68    63.45  \n",
       "1                  4         2     2024.99  4049.98  3796.19  \n",
       "2                  4         2     2024.99  4049.98  3796.19  \n",
       "3                  4         2       28.84    57.68    63.45  \n",
       "4                  4         2      818.70  1637.40  1413.62  "
      ]
     },
     "execution_count": 36,
     "metadata": {},
     "output_type": "execute_result"
    }
   ],
   "source": [
    "df_sales = pd.read_csv('sales.csv')\n",
    "df_sales.head()"
   ]
  },
  {
   "cell_type": "code",
   "execution_count": 37,
   "metadata": {},
   "outputs": [
    {
     "data": {
      "text/plain": [
       "Index(['salesordernumber', 'orderdate', 'productkey', 'resellerkey',\n",
       "       'employeekey', 'salesterritorykey', 'quantity', 'unit_price', 'sales',\n",
       "       'cost'],\n",
       "      dtype='object')"
      ]
     },
     "execution_count": 37,
     "metadata": {},
     "output_type": "execute_result"
    }
   ],
   "source": [
    "df_sales.columns = df_sales.columns.str.replace(' ', '_').str.lower()\n",
    "df_sales.columns"
   ]
  },
  {
   "cell_type": "code",
   "execution_count": 38,
   "metadata": {},
   "outputs": [
    {
     "name": "stdout",
     "output_type": "stream",
     "text": [
      "<class 'pandas.core.frame.DataFrame'>\n",
      "RangeIndex: 57851 entries, 0 to 57850\n",
      "Data columns (total 10 columns):\n",
      " #   Column             Non-Null Count  Dtype  \n",
      "---  ------             --------------  -----  \n",
      " 0   salesordernumber   57851 non-null  object \n",
      " 1   orderdate          57851 non-null  object \n",
      " 2   productkey         57851 non-null  int64  \n",
      " 3   resellerkey        57851 non-null  int64  \n",
      " 4   employeekey        57851 non-null  int64  \n",
      " 5   salesterritorykey  57851 non-null  int64  \n",
      " 6   quantity           57851 non-null  int64  \n",
      " 7   unit_price         57851 non-null  float64\n",
      " 8   sales              57851 non-null  float64\n",
      " 9   cost               57851 non-null  float64\n",
      "dtypes: float64(3), int64(5), object(2)\n",
      "memory usage: 4.4+ MB\n"
     ]
    }
   ],
   "source": [
    "df_sales.info()"
   ]
  },
  {
   "cell_type": "code",
   "execution_count": 39,
   "metadata": {},
   "outputs": [
    {
     "name": "stderr",
     "output_type": "stream",
     "text": [
      "C:\\Users\\New\\AppData\\Local\\Temp\\ipykernel_2852\\2603185360.py:1: UserWarning: Parsing dates in %d-%m-%Y format when dayfirst=False (the default) was specified. Pass `dayfirst=True` or specify a format to silence this warning.\n",
      "  df_sales['orderdate'] = pd.to_datetime(df_sales['orderdate'])\n"
     ]
    },
    {
     "data": {
      "text/plain": [
       "0   2017-08-25\n",
       "1   2017-08-25\n",
       "2   2017-08-25\n",
       "3   2017-08-25\n",
       "4   2017-11-18\n",
       "Name: orderdate, dtype: datetime64[ns]"
      ]
     },
     "execution_count": 39,
     "metadata": {},
     "output_type": "execute_result"
    }
   ],
   "source": [
    "df_sales['orderdate'] = pd.to_datetime(df_sales['orderdate'])\n",
    "df_sales['orderdate'].head()"
   ]
  },
  {
   "cell_type": "code",
   "execution_count": 40,
   "metadata": {},
   "outputs": [
    {
     "data": {
      "text/plain": [
       "(57851, 10)"
      ]
     },
     "execution_count": 40,
     "metadata": {},
     "output_type": "execute_result"
    }
   ],
   "source": [
    "df_sales.shape"
   ]
  },
  {
   "cell_type": "code",
   "execution_count": 41,
   "metadata": {},
   "outputs": [
    {
     "data": {
      "text/html": [
       "<div>\n",
       "<style scoped>\n",
       "    .dataframe tbody tr th:only-of-type {\n",
       "        vertical-align: middle;\n",
       "    }\n",
       "\n",
       "    .dataframe tbody tr th {\n",
       "        vertical-align: top;\n",
       "    }\n",
       "\n",
       "    .dataframe thead th {\n",
       "        text-align: right;\n",
       "    }\n",
       "</style>\n",
       "<table border=\"1\" class=\"dataframe\">\n",
       "  <thead>\n",
       "    <tr style=\"text-align: right;\">\n",
       "      <th></th>\n",
       "      <th>salesordernumber</th>\n",
       "      <th>orderdate</th>\n",
       "      <th>productkey</th>\n",
       "      <th>resellerkey</th>\n",
       "      <th>employeekey</th>\n",
       "      <th>salesterritorykey</th>\n",
       "      <th>quantity</th>\n",
       "      <th>unit_price</th>\n",
       "      <th>sales</th>\n",
       "      <th>cost</th>\n",
       "    </tr>\n",
       "  </thead>\n",
       "  <tbody>\n",
       "    <tr>\n",
       "      <th>57846</th>\n",
       "      <td>SO69476</td>\n",
       "      <td>2020-05-15</td>\n",
       "      <td>476</td>\n",
       "      <td>667</td>\n",
       "      <td>283</td>\n",
       "      <td>2</td>\n",
       "      <td>21</td>\n",
       "      <td>38.49</td>\n",
       "      <td>808.29</td>\n",
       "      <td>549.70</td>\n",
       "    </tr>\n",
       "    <tr>\n",
       "      <th>57847</th>\n",
       "      <td>SO69476</td>\n",
       "      <td>2020-05-15</td>\n",
       "      <td>474</td>\n",
       "      <td>667</td>\n",
       "      <td>283</td>\n",
       "      <td>2</td>\n",
       "      <td>19</td>\n",
       "      <td>38.49</td>\n",
       "      <td>731.31</td>\n",
       "      <td>497.35</td>\n",
       "    </tr>\n",
       "    <tr>\n",
       "      <th>57848</th>\n",
       "      <td>SO69493</td>\n",
       "      <td>2020-05-18</td>\n",
       "      <td>482</td>\n",
       "      <td>89</td>\n",
       "      <td>283</td>\n",
       "      <td>2</td>\n",
       "      <td>20</td>\n",
       "      <td>4.94</td>\n",
       "      <td>98.80</td>\n",
       "      <td>67.25</td>\n",
       "    </tr>\n",
       "    <tr>\n",
       "      <th>57849</th>\n",
       "      <td>SO69503</td>\n",
       "      <td>2020-05-20</td>\n",
       "      <td>482</td>\n",
       "      <td>79</td>\n",
       "      <td>282</td>\n",
       "      <td>3</td>\n",
       "      <td>23</td>\n",
       "      <td>4.94</td>\n",
       "      <td>113.62</td>\n",
       "      <td>77.33</td>\n",
       "    </tr>\n",
       "    <tr>\n",
       "      <th>57850</th>\n",
       "      <td>SO69561</td>\n",
       "      <td>2020-05-31</td>\n",
       "      <td>474</td>\n",
       "      <td>546</td>\n",
       "      <td>282</td>\n",
       "      <td>3</td>\n",
       "      <td>26</td>\n",
       "      <td>35.00</td>\n",
       "      <td>910.00</td>\n",
       "      <td>680.58</td>\n",
       "    </tr>\n",
       "  </tbody>\n",
       "</table>\n",
       "</div>"
      ],
      "text/plain": [
       "      salesordernumber  orderdate  productkey  resellerkey  employeekey  \\\n",
       "57846          SO69476 2020-05-15         476          667          283   \n",
       "57847          SO69476 2020-05-15         474          667          283   \n",
       "57848          SO69493 2020-05-18         482           89          283   \n",
       "57849          SO69503 2020-05-20         482           79          282   \n",
       "57850          SO69561 2020-05-31         474          546          282   \n",
       "\n",
       "       salesterritorykey  quantity  unit_price   sales    cost  \n",
       "57846                  2        21       38.49  808.29  549.70  \n",
       "57847                  2        19       38.49  731.31  497.35  \n",
       "57848                  2        20        4.94   98.80   67.25  \n",
       "57849                  3        23        4.94  113.62   77.33  \n",
       "57850                  3        26       35.00  910.00  680.58  "
      ]
     },
     "execution_count": 41,
     "metadata": {},
     "output_type": "execute_result"
    }
   ],
   "source": [
    "df_sales.tail()"
   ]
  },
  {
   "cell_type": "code",
   "execution_count": 42,
   "metadata": {},
   "outputs": [],
   "source": [
    "df_sales.to_csv('sales_cleaned.csv', index=False)"
   ]
  },
  {
   "cell_type": "code",
   "execution_count": 43,
   "metadata": {},
   "outputs": [],
   "source": [
    "df_salesperson = pd.read_csv('salesperson.csv') "
   ]
  },
  {
   "cell_type": "code",
   "execution_count": 44,
   "metadata": {},
   "outputs": [
    {
     "data": {
      "text/html": [
       "<div>\n",
       "<style scoped>\n",
       "    .dataframe tbody tr th:only-of-type {\n",
       "        vertical-align: middle;\n",
       "    }\n",
       "\n",
       "    .dataframe tbody tr th {\n",
       "        vertical-align: top;\n",
       "    }\n",
       "\n",
       "    .dataframe thead th {\n",
       "        text-align: right;\n",
       "    }\n",
       "</style>\n",
       "<table border=\"1\" class=\"dataframe\">\n",
       "  <thead>\n",
       "    <tr style=\"text-align: right;\">\n",
       "      <th></th>\n",
       "      <th>EmployeeKey</th>\n",
       "      <th>EmployeeID</th>\n",
       "      <th>Salesperson</th>\n",
       "      <th>Title</th>\n",
       "      <th>UPN</th>\n",
       "    </tr>\n",
       "  </thead>\n",
       "  <tbody>\n",
       "    <tr>\n",
       "      <th>0</th>\n",
       "      <td>272</td>\n",
       "      <td>502097814</td>\n",
       "      <td>Stephen Jiang</td>\n",
       "      <td>North American Sales Manager</td>\n",
       "      <td>stephen-jiang@adventureworks.com</td>\n",
       "    </tr>\n",
       "    <tr>\n",
       "      <th>1</th>\n",
       "      <td>277</td>\n",
       "      <td>112432117</td>\n",
       "      <td>Brian Welcker</td>\n",
       "      <td>Director of Sales</td>\n",
       "      <td>brian-welcker@adventureworks.com</td>\n",
       "    </tr>\n",
       "    <tr>\n",
       "      <th>2</th>\n",
       "      <td>281</td>\n",
       "      <td>841560125</td>\n",
       "      <td>Michael Blythe</td>\n",
       "      <td>Sales Representative</td>\n",
       "      <td>michael-blythe@adventureworks.com</td>\n",
       "    </tr>\n",
       "    <tr>\n",
       "      <th>3</th>\n",
       "      <td>282</td>\n",
       "      <td>191644724</td>\n",
       "      <td>Linda Mitchell</td>\n",
       "      <td>Sales Representative</td>\n",
       "      <td>linda-mitchell@adventureworks.com</td>\n",
       "    </tr>\n",
       "    <tr>\n",
       "      <th>4</th>\n",
       "      <td>283</td>\n",
       "      <td>615389812</td>\n",
       "      <td>Jillian Carson</td>\n",
       "      <td>Sales Representative</td>\n",
       "      <td>jillian-carson@adventureworks.com</td>\n",
       "    </tr>\n",
       "  </tbody>\n",
       "</table>\n",
       "</div>"
      ],
      "text/plain": [
       "   EmployeeKey  EmployeeID     Salesperson                         Title  \\\n",
       "0          272   502097814   Stephen Jiang  North American Sales Manager   \n",
       "1          277   112432117   Brian Welcker             Director of Sales   \n",
       "2          281   841560125  Michael Blythe          Sales Representative   \n",
       "3          282   191644724  Linda Mitchell          Sales Representative   \n",
       "4          283   615389812  Jillian Carson          Sales Representative   \n",
       "\n",
       "                                 UPN  \n",
       "0   stephen-jiang@adventureworks.com  \n",
       "1   brian-welcker@adventureworks.com  \n",
       "2  michael-blythe@adventureworks.com  \n",
       "3  linda-mitchell@adventureworks.com  \n",
       "4  jillian-carson@adventureworks.com  "
      ]
     },
     "execution_count": 44,
     "metadata": {},
     "output_type": "execute_result"
    }
   ],
   "source": [
    "df_salesperson.head()"
   ]
  },
  {
   "cell_type": "code",
   "execution_count": 46,
   "metadata": {},
   "outputs": [
    {
     "data": {
      "text/plain": [
       "Index(['employeekey', 'employeeid', 'salesperson', 'title', 'upn'], dtype='object')"
      ]
     },
     "execution_count": 46,
     "metadata": {},
     "output_type": "execute_result"
    }
   ],
   "source": [
    "df_salesperson.columns = df_salesperson.columns.str.replace(' ', '_').str.lower()\n",
    "df_salesperson.columns"
   ]
  },
  {
   "cell_type": "code",
   "execution_count": 47,
   "metadata": {},
   "outputs": [
    {
     "name": "stdout",
     "output_type": "stream",
     "text": [
      "<class 'pandas.core.frame.DataFrame'>\n",
      "RangeIndex: 18 entries, 0 to 17\n",
      "Data columns (total 5 columns):\n",
      " #   Column       Non-Null Count  Dtype \n",
      "---  ------       --------------  ----- \n",
      " 0   employeekey  18 non-null     int64 \n",
      " 1   employeeid   18 non-null     int64 \n",
      " 2   salesperson  18 non-null     object\n",
      " 3   title        18 non-null     object\n",
      " 4   upn          18 non-null     object\n",
      "dtypes: int64(2), object(3)\n",
      "memory usage: 852.0+ bytes\n"
     ]
    }
   ],
   "source": [
    "df_salesperson.info()"
   ]
  },
  {
   "cell_type": "code",
   "execution_count": 48,
   "metadata": {},
   "outputs": [
    {
     "data": {
      "text/plain": [
       "(18, 5)"
      ]
     },
     "execution_count": 48,
     "metadata": {},
     "output_type": "execute_result"
    }
   ],
   "source": [
    "df_salesperson.shape"
   ]
  },
  {
   "cell_type": "code",
   "execution_count": 49,
   "metadata": {},
   "outputs": [],
   "source": [
    "df_salesperson.to_csv('salesperson_cleaned.csv', index=False)"
   ]
  },
  {
   "cell_type": "code",
   "execution_count": 51,
   "metadata": {},
   "outputs": [
    {
     "data": {
      "text/html": [
       "<div>\n",
       "<style scoped>\n",
       "    .dataframe tbody tr th:only-of-type {\n",
       "        vertical-align: middle;\n",
       "    }\n",
       "\n",
       "    .dataframe tbody tr th {\n",
       "        vertical-align: top;\n",
       "    }\n",
       "\n",
       "    .dataframe thead th {\n",
       "        text-align: right;\n",
       "    }\n",
       "</style>\n",
       "<table border=\"1\" class=\"dataframe\">\n",
       "  <thead>\n",
       "    <tr style=\"text-align: right;\">\n",
       "      <th></th>\n",
       "      <th>EmployeeKey</th>\n",
       "      <th>SalesTerritoryKey</th>\n",
       "    </tr>\n",
       "  </thead>\n",
       "  <tbody>\n",
       "    <tr>\n",
       "      <th>0</th>\n",
       "      <td>272</td>\n",
       "      <td>1</td>\n",
       "    </tr>\n",
       "    <tr>\n",
       "      <th>1</th>\n",
       "      <td>272</td>\n",
       "      <td>2</td>\n",
       "    </tr>\n",
       "    <tr>\n",
       "      <th>2</th>\n",
       "      <td>272</td>\n",
       "      <td>3</td>\n",
       "    </tr>\n",
       "    <tr>\n",
       "      <th>3</th>\n",
       "      <td>272</td>\n",
       "      <td>4</td>\n",
       "    </tr>\n",
       "    <tr>\n",
       "      <th>4</th>\n",
       "      <td>272</td>\n",
       "      <td>5</td>\n",
       "    </tr>\n",
       "  </tbody>\n",
       "</table>\n",
       "</div>"
      ],
      "text/plain": [
       "   EmployeeKey  SalesTerritoryKey\n",
       "0          272                  1\n",
       "1          272                  2\n",
       "2          272                  3\n",
       "3          272                  4\n",
       "4          272                  5"
      ]
     },
     "execution_count": 51,
     "metadata": {},
     "output_type": "execute_result"
    }
   ],
   "source": [
    "df_salesperson_region = pd.read_csv('salespersonRegion.csv')\n",
    "df_salesperson_region.head()"
   ]
  },
  {
   "cell_type": "code",
   "execution_count": 53,
   "metadata": {},
   "outputs": [
    {
     "data": {
      "text/plain": [
       "Index(['employeekey', 'salesterritorykey'], dtype='object')"
      ]
     },
     "execution_count": 53,
     "metadata": {},
     "output_type": "execute_result"
    }
   ],
   "source": [
    "df_salesperson_region.columns = df_salesperson_region.columns.str.replace(' ', '_').str.lower() \n",
    "df_salesperson_region.columns"
   ]
  },
  {
   "cell_type": "code",
   "execution_count": 54,
   "metadata": {},
   "outputs": [
    {
     "name": "stdout",
     "output_type": "stream",
     "text": [
      "<class 'pandas.core.frame.DataFrame'>\n",
      "RangeIndex: 39 entries, 0 to 38\n",
      "Data columns (total 2 columns):\n",
      " #   Column             Non-Null Count  Dtype\n",
      "---  ------             --------------  -----\n",
      " 0   employeekey        39 non-null     int64\n",
      " 1   salesterritorykey  39 non-null     int64\n",
      "dtypes: int64(2)\n",
      "memory usage: 756.0 bytes\n"
     ]
    }
   ],
   "source": [
    "df_salesperson_region.info()"
   ]
  },
  {
   "cell_type": "code",
   "execution_count": 55,
   "metadata": {},
   "outputs": [],
   "source": [
    "df_salesperson_region.to_csv('salesperson_region_cleaned.csv', index=False)"
   ]
  },
  {
   "cell_type": "code",
   "execution_count": 60,
   "metadata": {},
   "outputs": [
    {
     "data": {
      "text/html": [
       "<div>\n",
       "<style scoped>\n",
       "    .dataframe tbody tr th:only-of-type {\n",
       "        vertical-align: middle;\n",
       "    }\n",
       "\n",
       "    .dataframe tbody tr th {\n",
       "        vertical-align: top;\n",
       "    }\n",
       "\n",
       "    .dataframe thead th {\n",
       "        text-align: right;\n",
       "    }\n",
       "</style>\n",
       "<table border=\"1\" class=\"dataframe\">\n",
       "  <thead>\n",
       "    <tr style=\"text-align: right;\">\n",
       "      <th></th>\n",
       "      <th>EmployeeID</th>\n",
       "      <th>Target</th>\n",
       "      <th>TargetMonth</th>\n",
       "    </tr>\n",
       "  </thead>\n",
       "  <tbody>\n",
       "    <tr>\n",
       "      <th>0</th>\n",
       "      <td>90836195</td>\n",
       "      <td>500000</td>\n",
       "      <td>01-12-2017</td>\n",
       "    </tr>\n",
       "    <tr>\n",
       "      <th>1</th>\n",
       "      <td>112432117</td>\n",
       "      <td>500000</td>\n",
       "      <td>01-07-2017</td>\n",
       "    </tr>\n",
       "    <tr>\n",
       "      <th>2</th>\n",
       "      <td>139397894</td>\n",
       "      <td>500000</td>\n",
       "      <td>01-12-2017</td>\n",
       "    </tr>\n",
       "    <tr>\n",
       "      <th>3</th>\n",
       "      <td>191644724</td>\n",
       "      <td>500000</td>\n",
       "      <td>01-09-2017</td>\n",
       "    </tr>\n",
       "    <tr>\n",
       "      <th>4</th>\n",
       "      <td>502097814</td>\n",
       "      <td>500000</td>\n",
       "      <td>01-07-2017</td>\n",
       "    </tr>\n",
       "  </tbody>\n",
       "</table>\n",
       "</div>"
      ],
      "text/plain": [
       "   EmployeeID  Target TargetMonth\n",
       "0    90836195  500000  01-12-2017\n",
       "1   112432117  500000  01-07-2017\n",
       "2   139397894  500000  01-12-2017\n",
       "3   191644724  500000  01-09-2017\n",
       "4   502097814  500000  01-07-2017"
      ]
     },
     "execution_count": 60,
     "metadata": {},
     "output_type": "execute_result"
    }
   ],
   "source": [
    "df_target = pd.read_csv('Targets.csv')\n",
    "\n",
    "df_target.head()"
   ]
  },
  {
   "cell_type": "code",
   "execution_count": 61,
   "metadata": {},
   "outputs": [
    {
     "data": {
      "text/plain": [
       "Index(['employeeid', 'target', 'targetmonth'], dtype='object')"
      ]
     },
     "execution_count": 61,
     "metadata": {},
     "output_type": "execute_result"
    }
   ],
   "source": [
    "df_target.columns = df_target.columns.str.replace(' ', '_').str.lower()\n",
    "df_target.columns"
   ]
  },
  {
   "cell_type": "code",
   "execution_count": 62,
   "metadata": {},
   "outputs": [
    {
     "data": {
      "text/plain": [
       "0   2017-12-01\n",
       "1   2017-07-01\n",
       "2   2017-12-01\n",
       "3   2017-09-01\n",
       "4   2017-07-01\n",
       "Name: targetmonth, dtype: datetime64[ns]"
      ]
     },
     "execution_count": 62,
     "metadata": {},
     "output_type": "execute_result"
    }
   ],
   "source": [
    "df_target['targetmonth'] = pd.to_datetime(df_target['targetmonth'],format='%d-%m-%Y')\n",
    "df_target['targetmonth'].head()\n"
   ]
  },
  {
   "cell_type": "code",
   "execution_count": 63,
   "metadata": {},
   "outputs": [
    {
     "name": "stdout",
     "output_type": "stream",
     "text": [
      "<class 'pandas.core.frame.DataFrame'>\n",
      "RangeIndex: 809 entries, 0 to 808\n",
      "Data columns (total 3 columns):\n",
      " #   Column       Non-Null Count  Dtype         \n",
      "---  ------       --------------  -----         \n",
      " 0   employeeid   809 non-null    int64         \n",
      " 1   target       809 non-null    int64         \n",
      " 2   targetmonth  809 non-null    datetime64[ns]\n",
      "dtypes: datetime64[ns](1), int64(2)\n",
      "memory usage: 19.1 KB\n"
     ]
    }
   ],
   "source": [
    "df_target.info()"
   ]
  },
  {
   "cell_type": "code",
   "execution_count": 64,
   "metadata": {},
   "outputs": [],
   "source": [
    "df_target.to_csv('target_cleaned.csv', index=False)"
   ]
  }
 ],
 "metadata": {
  "kernelspec": {
   "display_name": "Python 3",
   "language": "python",
   "name": "python3"
  },
  "language_info": {
   "codemirror_mode": {
    "name": "ipython",
    "version": 3
   },
   "file_extension": ".py",
   "mimetype": "text/x-python",
   "name": "python",
   "nbconvert_exporter": "python",
   "pygments_lexer": "ipython3",
   "version": "3.12.2"
  }
 },
 "nbformat": 4,
 "nbformat_minor": 2
}
